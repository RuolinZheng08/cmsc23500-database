{
 "cells": [
  {
   "cell_type": "code",
   "execution_count": 1,
   "metadata": {},
   "outputs": [],
   "source": [
    "import pandas as pd"
   ]
  },
  {
   "cell_type": "code",
   "execution_count": 2,
   "metadata": {},
   "outputs": [
    {
     "name": "stdout",
     "output_type": "stream",
     "text": [
      "311_Service_Requests_-_Pot_Holes_Reported.tsv\r\n"
     ]
    }
   ],
   "source": [
    "!ls *.tsv"
   ]
  },
  {
   "cell_type": "code",
   "execution_count": 3,
   "metadata": {},
   "outputs": [],
   "source": [
    "df = pd.read_csv('311_Service_Requests_-_Pot_Holes_Reported.tsv', sep='\\t')"
   ]
  },
  {
   "cell_type": "code",
   "execution_count": 4,
   "metadata": {
    "scrolled": true
   },
   "outputs": [
    {
     "data": {
      "text/plain": [
       "Index(['creation_date', 'service_request_number', 'most_recent_action',\n",
       "       'potholes_filled', 'street_address', 'zip', 'latitude', 'longitude'],\n",
       "      dtype='object')"
      ]
     },
     "execution_count": 4,
     "metadata": {},
     "output_type": "execute_result"
    }
   ],
   "source": [
    "df.columns"
   ]
  },
  {
   "cell_type": "code",
   "execution_count": 5,
   "metadata": {},
   "outputs": [
    {
     "data": {
      "text/plain": [
       "78"
      ]
     },
     "execution_count": 5,
     "metadata": {},
     "output_type": "execute_result"
    }
   ],
   "source": [
    "len(df[df['most_recent_action'] == 'WM CDOT Recommended Restoration Transfer Outcome'])"
   ]
  },
  {
   "cell_type": "code",
   "execution_count": 6,
   "metadata": {},
   "outputs": [
    {
     "data": {
      "text/plain": [
       "(560478, 386935)"
      ]
     },
     "execution_count": 6,
     "metadata": {},
     "output_type": "execute_result"
    }
   ],
   "source": [
    "len(df), len(df.dropna())"
   ]
  },
  {
   "cell_type": "code",
   "execution_count": 7,
   "metadata": {},
   "outputs": [
    {
     "data": {
      "text/plain": [
       "78"
      ]
     },
     "execution_count": 7,
     "metadata": {},
     "output_type": "execute_result"
    }
   ],
   "source": [
    "nona = df.dropna()\n",
    "len(nona[nona['most_recent_action'] == 'WM CDOT Recommended Restoration Transfer Outcome'])"
   ]
  },
  {
   "cell_type": "code",
   "execution_count": 8,
   "metadata": {},
   "outputs": [
    {
     "data": {
      "text/html": [
       "<div>\n",
       "<style scoped>\n",
       "    .dataframe tbody tr th:only-of-type {\n",
       "        vertical-align: middle;\n",
       "    }\n",
       "\n",
       "    .dataframe tbody tr th {\n",
       "        vertical-align: top;\n",
       "    }\n",
       "\n",
       "    .dataframe thead th {\n",
       "        text-align: right;\n",
       "    }\n",
       "</style>\n",
       "<table border=\"1\" class=\"dataframe\">\n",
       "  <thead>\n",
       "    <tr style=\"text-align: right;\">\n",
       "      <th></th>\n",
       "      <th>creation_date</th>\n",
       "      <th>service_request_number</th>\n",
       "      <th>most_recent_action</th>\n",
       "      <th>potholes_filled</th>\n",
       "      <th>street_address</th>\n",
       "      <th>zip</th>\n",
       "      <th>latitude</th>\n",
       "      <th>longitude</th>\n",
       "    </tr>\n",
       "  </thead>\n",
       "  <tbody>\n",
       "    <tr>\n",
       "      <th>9</th>\n",
       "      <td>01/01/2011</td>\n",
       "      <td>11-00002021</td>\n",
       "      <td>Pothole Patched</td>\n",
       "      <td>5.0</td>\n",
       "      <td>1642 W 99TH ST</td>\n",
       "      <td>60643.0</td>\n",
       "      <td>41.714035</td>\n",
       "      <td>-87.665096</td>\n",
       "    </tr>\n",
       "    <tr>\n",
       "      <th>10</th>\n",
       "      <td>01/01/2011</td>\n",
       "      <td>11-00002273</td>\n",
       "      <td>Pothole Patched</td>\n",
       "      <td>7.0</td>\n",
       "      <td>3500 S PULASKI RD</td>\n",
       "      <td>60623.0</td>\n",
       "      <td>41.830224</td>\n",
       "      <td>-87.724352</td>\n",
       "    </tr>\n",
       "    <tr>\n",
       "      <th>11</th>\n",
       "      <td>01/01/2011</td>\n",
       "      <td>11-00002650</td>\n",
       "      <td>Pothole Patched</td>\n",
       "      <td>5.0</td>\n",
       "      <td>7851 S DR MARTIN LUTHER KING JR DR</td>\n",
       "      <td>60619.0</td>\n",
       "      <td>41.751434</td>\n",
       "      <td>-87.614820</td>\n",
       "    </tr>\n",
       "    <tr>\n",
       "      <th>12</th>\n",
       "      <td>01/01/2011</td>\n",
       "      <td>11-00002654</td>\n",
       "      <td>Pothole Patched</td>\n",
       "      <td>3.0</td>\n",
       "      <td>15 E 79TH ST</td>\n",
       "      <td>60619.0</td>\n",
       "      <td>41.750865</td>\n",
       "      <td>-87.623890</td>\n",
       "    </tr>\n",
       "    <tr>\n",
       "      <th>13</th>\n",
       "      <td>01/01/2011</td>\n",
       "      <td>11-00002656</td>\n",
       "      <td>Pothole Patched</td>\n",
       "      <td>4.0</td>\n",
       "      <td>359 E 79TH ST</td>\n",
       "      <td>60619.0</td>\n",
       "      <td>41.750992</td>\n",
       "      <td>-87.615824</td>\n",
       "    </tr>\n",
       "  </tbody>\n",
       "</table>\n",
       "</div>"
      ],
      "text/plain": [
       "   creation_date service_request_number most_recent_action  potholes_filled  \\\n",
       "9     01/01/2011            11-00002021    Pothole Patched              5.0   \n",
       "10    01/01/2011            11-00002273    Pothole Patched              7.0   \n",
       "11    01/01/2011            11-00002650    Pothole Patched              5.0   \n",
       "12    01/01/2011            11-00002654    Pothole Patched              3.0   \n",
       "13    01/01/2011            11-00002656    Pothole Patched              4.0   \n",
       "\n",
       "                        street_address      zip   latitude  longitude  \n",
       "9                       1642 W 99TH ST  60643.0  41.714035 -87.665096  \n",
       "10                   3500 S PULASKI RD  60623.0  41.830224 -87.724352  \n",
       "11  7851 S DR MARTIN LUTHER KING JR DR  60619.0  41.751434 -87.614820  \n",
       "12                        15 E 79TH ST  60619.0  41.750865 -87.623890  \n",
       "13                       359 E 79TH ST  60619.0  41.750992 -87.615824  "
      ]
     },
     "execution_count": 8,
     "metadata": {},
     "output_type": "execute_result"
    }
   ],
   "source": [
    "nona.head()"
   ]
  },
  {
   "cell_type": "code",
   "execution_count": 13,
   "metadata": {
    "scrolled": true
   },
   "outputs": [
    {
     "data": {
      "text/html": [
       "<div>\n",
       "<style scoped>\n",
       "    .dataframe tbody tr th:only-of-type {\n",
       "        vertical-align: middle;\n",
       "    }\n",
       "\n",
       "    .dataframe tbody tr th {\n",
       "        vertical-align: top;\n",
       "    }\n",
       "\n",
       "    .dataframe thead th {\n",
       "        text-align: right;\n",
       "    }\n",
       "</style>\n",
       "<table border=\"1\" class=\"dataframe\">\n",
       "  <thead>\n",
       "    <tr style=\"text-align: right;\">\n",
       "      <th></th>\n",
       "      <th>creation_date</th>\n",
       "      <th>service_request_number</th>\n",
       "      <th>most_recent_action</th>\n",
       "      <th>potholes_filled</th>\n",
       "      <th>street_address</th>\n",
       "      <th>zip</th>\n",
       "      <th>latitude</th>\n",
       "      <th>longitude</th>\n",
       "    </tr>\n",
       "  </thead>\n",
       "  <tbody>\n",
       "    <tr>\n",
       "      <th>151742</th>\n",
       "      <td>04/15/2013</td>\n",
       "      <td>13-00430533</td>\n",
       "      <td>Pothole Patched</td>\n",
       "      <td>0.30</td>\n",
       "      <td>54 E BANKS ST</td>\n",
       "      <td>60610.0</td>\n",
       "      <td>41.906906</td>\n",
       "      <td>-87.626699</td>\n",
       "    </tr>\n",
       "    <tr>\n",
       "      <th>233988</th>\n",
       "      <td>04/02/2014</td>\n",
       "      <td>14-00468179</td>\n",
       "      <td>Pothole Patched</td>\n",
       "      <td>0.36</td>\n",
       "      <td>2500 W 16TH ST</td>\n",
       "      <td>60608.0</td>\n",
       "      <td>41.859446</td>\n",
       "      <td>-87.688415</td>\n",
       "    </tr>\n",
       "    <tr>\n",
       "      <th>273011</th>\n",
       "      <td>06/11/2014</td>\n",
       "      <td>14-00882934</td>\n",
       "      <td>Pothole Patched</td>\n",
       "      <td>0.30</td>\n",
       "      <td>8129 S SACRAMENTO AVE</td>\n",
       "      <td>60652.0</td>\n",
       "      <td>41.745348</td>\n",
       "      <td>-87.697242</td>\n",
       "    </tr>\n",
       "  </tbody>\n",
       "</table>\n",
       "</div>"
      ],
      "text/plain": [
       "       creation_date service_request_number most_recent_action  \\\n",
       "151742    04/15/2013            13-00430533    Pothole Patched   \n",
       "233988    04/02/2014            14-00468179    Pothole Patched   \n",
       "273011    06/11/2014            14-00882934    Pothole Patched   \n",
       "\n",
       "        potholes_filled         street_address      zip   latitude  longitude  \n",
       "151742             0.30          54 E BANKS ST  60610.0  41.906906 -87.626699  \n",
       "233988             0.36         2500 W 16TH ST  60608.0  41.859446 -87.688415  \n",
       "273011             0.30  8129 S SACRAMENTO AVE  60652.0  41.745348 -87.697242  "
      ]
     },
     "execution_count": 13,
     "metadata": {},
     "output_type": "execute_result"
    }
   ],
   "source": [
    "nona[nona['potholes_filled'].astype('int') != nona['potholes_filled']]"
   ]
  },
  {
   "cell_type": "code",
   "execution_count": 14,
   "metadata": {},
   "outputs": [
    {
     "data": {
      "text/html": [
       "<div>\n",
       "<style scoped>\n",
       "    .dataframe tbody tr th:only-of-type {\n",
       "        vertical-align: middle;\n",
       "    }\n",
       "\n",
       "    .dataframe tbody tr th {\n",
       "        vertical-align: top;\n",
       "    }\n",
       "\n",
       "    .dataframe thead th {\n",
       "        text-align: right;\n",
       "    }\n",
       "</style>\n",
       "<table border=\"1\" class=\"dataframe\">\n",
       "  <thead>\n",
       "    <tr style=\"text-align: right;\">\n",
       "      <th></th>\n",
       "      <th>creation_date</th>\n",
       "      <th>service_request_number</th>\n",
       "      <th>most_recent_action</th>\n",
       "      <th>potholes_filled</th>\n",
       "      <th>street_address</th>\n",
       "      <th>zip</th>\n",
       "      <th>latitude</th>\n",
       "      <th>longitude</th>\n",
       "    </tr>\n",
       "  </thead>\n",
       "  <tbody>\n",
       "    <tr>\n",
       "      <th>3537</th>\n",
       "      <td>01/07/2013</td>\n",
       "      <td>13-00026354</td>\n",
       "      <td>WM CDOT Recommended Restoration Transfer Outcome</td>\n",
       "      <td>0.0</td>\n",
       "      <td>10300 S MICHIGAN AVE</td>\n",
       "      <td>60628.0</td>\n",
       "      <td>41.707182</td>\n",
       "      <td>-87.620361</td>\n",
       "    </tr>\n",
       "    <tr>\n",
       "      <th>3892</th>\n",
       "      <td>01/08/2013</td>\n",
       "      <td>13-00029753</td>\n",
       "      <td>WM CDOT Recommended Restoration Transfer Outcome</td>\n",
       "      <td>0.0</td>\n",
       "      <td>7551 S LANGLEY AVE</td>\n",
       "      <td>60619.0</td>\n",
       "      <td>41.757005</td>\n",
       "      <td>-87.607654</td>\n",
       "    </tr>\n",
       "    <tr>\n",
       "      <th>16357</th>\n",
       "      <td>01/31/2011</td>\n",
       "      <td>11-00147180</td>\n",
       "      <td>WM CDOT Recommended Restoration Transfer Outcome</td>\n",
       "      <td>0.0</td>\n",
       "      <td>5001 S MARSHFIELD AVE</td>\n",
       "      <td>60609.0</td>\n",
       "      <td>41.803040</td>\n",
       "      <td>-87.665901</td>\n",
       "    </tr>\n",
       "    <tr>\n",
       "      <th>28039</th>\n",
       "      <td>02/17/2012</td>\n",
       "      <td>12-00215997</td>\n",
       "      <td>WM CDOT Recommended Restoration Transfer Outcome</td>\n",
       "      <td>0.0</td>\n",
       "      <td>5014 S RIDGEWAY AVE</td>\n",
       "      <td>60632.0</td>\n",
       "      <td>41.801999</td>\n",
       "      <td>-87.717425</td>\n",
       "    </tr>\n",
       "    <tr>\n",
       "      <th>105159</th>\n",
       "      <td>06/06/2012</td>\n",
       "      <td>12-01036230</td>\n",
       "      <td>WM CDOT Recommended Restoration Transfer Outcome</td>\n",
       "      <td>0.0</td>\n",
       "      <td>8700 S ASHLAND AVE</td>\n",
       "      <td>60620.0</td>\n",
       "      <td>41.735697</td>\n",
       "      <td>-87.663210</td>\n",
       "    </tr>\n",
       "  </tbody>\n",
       "</table>\n",
       "</div>"
      ],
      "text/plain": [
       "       creation_date service_request_number  \\\n",
       "3537      01/07/2013            13-00026354   \n",
       "3892      01/08/2013            13-00029753   \n",
       "16357     01/31/2011            11-00147180   \n",
       "28039     02/17/2012            12-00215997   \n",
       "105159    06/06/2012            12-01036230   \n",
       "\n",
       "                                      most_recent_action  potholes_filled  \\\n",
       "3537    WM CDOT Recommended Restoration Transfer Outcome              0.0   \n",
       "3892    WM CDOT Recommended Restoration Transfer Outcome              0.0   \n",
       "16357   WM CDOT Recommended Restoration Transfer Outcome              0.0   \n",
       "28039   WM CDOT Recommended Restoration Transfer Outcome              0.0   \n",
       "105159  WM CDOT Recommended Restoration Transfer Outcome              0.0   \n",
       "\n",
       "               street_address      zip   latitude  longitude  \n",
       "3537     10300 S MICHIGAN AVE  60628.0  41.707182 -87.620361  \n",
       "3892       7551 S LANGLEY AVE  60619.0  41.757005 -87.607654  \n",
       "16357   5001 S MARSHFIELD AVE  60609.0  41.803040 -87.665901  \n",
       "28039     5014 S RIDGEWAY AVE  60632.0  41.801999 -87.717425  \n",
       "105159     8700 S ASHLAND AVE  60620.0  41.735697 -87.663210  "
      ]
     },
     "execution_count": 14,
     "metadata": {},
     "output_type": "execute_result"
    }
   ],
   "source": [
    "nona[nona['most_recent_action'] == 'WM CDOT Recommended Restoration Transfer Outcome'].head()"
   ]
  },
  {
   "cell_type": "code",
   "execution_count": 15,
   "metadata": {},
   "outputs": [
    {
     "data": {
      "text/html": [
       "<div>\n",
       "<style scoped>\n",
       "    .dataframe tbody tr th:only-of-type {\n",
       "        vertical-align: middle;\n",
       "    }\n",
       "\n",
       "    .dataframe tbody tr th {\n",
       "        vertical-align: top;\n",
       "    }\n",
       "\n",
       "    .dataframe thead th {\n",
       "        text-align: right;\n",
       "    }\n",
       "</style>\n",
       "<table border=\"1\" class=\"dataframe\">\n",
       "  <thead>\n",
       "    <tr style=\"text-align: right;\">\n",
       "      <th></th>\n",
       "      <th>creation_date</th>\n",
       "      <th>service_request_number</th>\n",
       "      <th>most_recent_action</th>\n",
       "      <th>potholes_filled</th>\n",
       "      <th>street_address</th>\n",
       "      <th>zip</th>\n",
       "      <th>latitude</th>\n",
       "      <th>longitude</th>\n",
       "    </tr>\n",
       "  </thead>\n",
       "  <tbody>\n",
       "    <tr>\n",
       "      <th>3537</th>\n",
       "      <td>01/07/2013</td>\n",
       "      <td>13-00026354</td>\n",
       "      <td>WM CDOT Recommended Restoration Transfer Outcome</td>\n",
       "      <td>0.0</td>\n",
       "      <td>10300 S MICHIGAN AVE</td>\n",
       "      <td>60628.0</td>\n",
       "      <td>41.707182</td>\n",
       "      <td>-87.620361</td>\n",
       "    </tr>\n",
       "    <tr>\n",
       "      <th>3892</th>\n",
       "      <td>01/08/2013</td>\n",
       "      <td>13-00029753</td>\n",
       "      <td>WM CDOT Recommended Restoration Transfer Outcome</td>\n",
       "      <td>0.0</td>\n",
       "      <td>7551 S LANGLEY AVE</td>\n",
       "      <td>60619.0</td>\n",
       "      <td>41.757005</td>\n",
       "      <td>-87.607654</td>\n",
       "    </tr>\n",
       "    <tr>\n",
       "      <th>16357</th>\n",
       "      <td>01/31/2011</td>\n",
       "      <td>11-00147180</td>\n",
       "      <td>WM CDOT Recommended Restoration Transfer Outcome</td>\n",
       "      <td>0.0</td>\n",
       "      <td>5001 S MARSHFIELD AVE</td>\n",
       "      <td>60609.0</td>\n",
       "      <td>41.803040</td>\n",
       "      <td>-87.665901</td>\n",
       "    </tr>\n",
       "    <tr>\n",
       "      <th>28039</th>\n",
       "      <td>02/17/2012</td>\n",
       "      <td>12-00215997</td>\n",
       "      <td>WM CDOT Recommended Restoration Transfer Outcome</td>\n",
       "      <td>0.0</td>\n",
       "      <td>5014 S RIDGEWAY AVE</td>\n",
       "      <td>60632.0</td>\n",
       "      <td>41.801999</td>\n",
       "      <td>-87.717425</td>\n",
       "    </tr>\n",
       "    <tr>\n",
       "      <th>105159</th>\n",
       "      <td>06/06/2012</td>\n",
       "      <td>12-01036230</td>\n",
       "      <td>WM CDOT Recommended Restoration Transfer Outcome</td>\n",
       "      <td>0.0</td>\n",
       "      <td>8700 S ASHLAND AVE</td>\n",
       "      <td>60620.0</td>\n",
       "      <td>41.735697</td>\n",
       "      <td>-87.663210</td>\n",
       "    </tr>\n",
       "  </tbody>\n",
       "</table>\n",
       "</div>"
      ],
      "text/plain": [
       "       creation_date service_request_number  \\\n",
       "3537      01/07/2013            13-00026354   \n",
       "3892      01/08/2013            13-00029753   \n",
       "16357     01/31/2011            11-00147180   \n",
       "28039     02/17/2012            12-00215997   \n",
       "105159    06/06/2012            12-01036230   \n",
       "\n",
       "                                      most_recent_action  potholes_filled  \\\n",
       "3537    WM CDOT Recommended Restoration Transfer Outcome              0.0   \n",
       "3892    WM CDOT Recommended Restoration Transfer Outcome              0.0   \n",
       "16357   WM CDOT Recommended Restoration Transfer Outcome              0.0   \n",
       "28039   WM CDOT Recommended Restoration Transfer Outcome              0.0   \n",
       "105159  WM CDOT Recommended Restoration Transfer Outcome              0.0   \n",
       "\n",
       "               street_address      zip   latitude  longitude  \n",
       "3537     10300 S MICHIGAN AVE  60628.0  41.707182 -87.620361  \n",
       "3892       7551 S LANGLEY AVE  60619.0  41.757005 -87.607654  \n",
       "16357   5001 S MARSHFIELD AVE  60609.0  41.803040 -87.665901  \n",
       "28039     5014 S RIDGEWAY AVE  60632.0  41.801999 -87.717425  \n",
       "105159     8700 S ASHLAND AVE  60620.0  41.735697 -87.663210  "
      ]
     },
     "execution_count": 15,
     "metadata": {},
     "output_type": "execute_result"
    }
   ],
   "source": [
    "df[df['most_recent_action'] == 'WM CDOT Recommended Restoration Transfer Outcome'].head()"
   ]
  }
 ],
 "metadata": {
  "kernelspec": {
   "display_name": "Python 3",
   "language": "python",
   "name": "python3"
  },
  "language_info": {
   "codemirror_mode": {
    "name": "ipython",
    "version": 3
   },
   "file_extension": ".py",
   "mimetype": "text/x-python",
   "name": "python",
   "nbconvert_exporter": "python",
   "pygments_lexer": "ipython3",
   "version": "3.8.0"
  }
 },
 "nbformat": 4,
 "nbformat_minor": 2
}
